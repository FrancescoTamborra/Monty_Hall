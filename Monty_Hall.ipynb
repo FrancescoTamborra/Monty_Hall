{
 "cells": [
  {
   "cell_type": "code",
   "execution_count": 2,
   "metadata": {},
   "outputs": [],
   "source": [
    "# the following command allows to show graphs after the call and not in a separate window\n",
    "%matplotlib inline\n",
    "\n",
    "\n",
    "from random import randint, seed\n",
    "# to generate random numbers\n",
    "\n",
    "from enum import Enum\n",
    "# something like a list ? Allows to name boolean ?\n",
    "\n",
    "import matplotlib.pyplot as plt\n",
    "# to make plots\n"
   ]
  },
  {
   "cell_type": "code",
   "execution_count": 3,
   "metadata": {},
   "outputs": [],
   "source": [
    "class Strategy(Enum):\n",
    "    CHANGE = 1\n",
    "    KEEP = 0"
   ]
  },
  {
   "cell_type": "code",
   "execution_count": 4,
   "metadata": {},
   "outputs": [],
   "source": [
    "def play_game(strategy):\n",
    "    '''Simulate a Monty Hall game:\n",
    "       https://en.wikipedia.org/wiki/Monty_Hall_problem\n",
    "    \n",
    "    Args:\n",
    "        strategy (Strategy): player's strategy\n",
    "    \n",
    "    Returns:\n",
    "        bool : the player won ?\n",
    "    '''\n",
    "    \n",
    "\n",
    "    doors = [0, 1, 2] # we have 3 doors called 0,1,2\n",
    "    \n",
    "    winning_door = randint(0,2) # one random door is the winning one\n",
    "    \n",
    "    # player's choice\n",
    "    first_choice = randint(0,2) # it's a random choice\n",
    "    \n",
    "    # we remove the player's choice from the doors list\n",
    "    doors.remove(first_choice)\n",
    "   \n",
    "    # now len(doors) = 2 -> doors[0], doors[1]\n",
    "    \n",
    "    # The host remove one of the two remaining doors containing a goat\n",
    "    if first_choice == winning_door:\n",
    "        doors.remove(doors[randint(0,1)]) # if player chose the winning door, we remove one of \n",
    "                                          # the other two because both have a goat behind\n",
    "    else:\n",
    "        doors = [winning_door] # otherwise (the player's first choice was a goat) the host removes \n",
    "                               # the other goat and in doors we have only the winning door\n",
    "    \n",
    "    # now len(doors) = 1 -> doors[0]\n",
    "    \n",
    "    second_choice = 0  # initialize to 0\n",
    "    \n",
    "    # Second choice depend on the player's strategy\n",
    "    if strategy == Strategy.CHANGE:\n",
    "        second_choice = doors[0] # player picks the remaining door\n",
    "    elif strategy == Strategy.KEEP:\n",
    "        second_choice = first_choice # player keep his/her first choice\n",
    "    else:\n",
    "        raise ValueError(\"Strategy not known!\")\n",
    "    \n",
    "    return second_choice == winning_door # the function return a boolean: True if the player won"
   ]
  },
  {
   "cell_type": "code",
   "execution_count": 7,
   "metadata": {},
   "outputs": [
    {
     "data": {
      "text/plain": [
       "False"
      ]
     },
     "execution_count": 7,
     "metadata": {},
     "output_type": "execute_result"
    }
   ],
   "source": [
    "play_game(Strategy.KEEP) # just to test if the code is working"
   ]
  },
  {
   "cell_type": "code",
   "execution_count": 8,
   "metadata": {},
   "outputs": [],
   "source": [
    "def play(strategy, nb_tries):\n",
    "    '''Function allowing to play nb_tries games with a given strategy       \n",
    "    Args:\n",
    "        strategy (Strategy): player's strategy\n",
    "        nb_tries (int): number of games\n",
    "        \n",
    "    Returns:\n",
    "        list: list containing the number of times the player won with that strategy\n",
    "    '''\n",
    "    \n",
    "    # This is a comprehension list \n",
    "    return [1 if play_game(strategy) else 0 for i in range(nb_tries)]"
   ]
  },
  {
   "cell_type": "code",
   "execution_count": 9,
   "metadata": {},
   "outputs": [
    {
     "name": "stdout",
     "output_type": "stream",
     "text": [
      "By keeping his/her choice, the player won 3315 times out of 10000 games.\n"
     ]
    }
   ],
   "source": [
    "print(\"By keeping his/her choice, the player won {} times out of 10000 games.\".format(sum(play(Strategy.KEEP, 10000))))"
   ]
  },
  {
   "cell_type": "code",
   "execution_count": 10,
   "metadata": {},
   "outputs": [
    {
     "name": "stdout",
     "output_type": "stream",
     "text": [
      "By changing his/her mind, the player won 6666 times out of 10000 games.\n"
     ]
    }
   ],
   "source": [
    "print(\"By changing his/her mind, the player won {} times out of 10000 games.\".format(sum(play(Strategy.CHANGE, 10000))))"
   ]
  },
  {
   "cell_type": "code",
   "execution_count": 16,
   "metadata": {},
   "outputs": [
    {
     "data": {
      "image/png": "[encoded data removed]",
      "text/plain": [
       "<Figure size 432x288 with 1 Axes>"
      ]
     },
     "metadata": {
      "needs_background": "light"
     },
     "output_type": "display_data"
    }
   ],
   "source": [
    "# More interesting is to show an histogram (plt.bar) with the results:\n",
    "figure = plt.figure()\n",
    "plt.title('Monty Hall game results for 100k games')\n",
    "plt.xlabel(\"player's strategy\")\n",
    "plt.ylabel(\"number of wins\")\n",
    "plot = plt.bar([1,2],[sum(play(Strategy.CHANGE, 100000)), sum(play(Strategy.KEEP, 100000))], tick_label=[\"Change\",\"Keep\"])"
   ]
  },
  {
   "cell_type": "code",
   "execution_count": 12,
   "metadata": {},
   "outputs": [],
   "source": [
    "# We can also plot the evolution of wins for the two strategy as a function of the games played using a scatter plot:\n",
    "wins_changing = [] # lists containing the event lists for every sample\n",
    "wins_keeping = []\n",
    "samples = [1000, 10000, 20000, 50000, 80000, 100000] # i.e. steps of played games\n",
    "for tries in samples:\n",
    "    wins_changing.append(play(Strategy.CHANGE, tries))\n",
    "    wins_keeping.append(play(Strategy.KEEP, tries))"
   ]
  },
  {
   "cell_type": "code",
   "execution_count": 15,
   "metadata": {},
   "outputs": [
    {
     "data": {
      "image/png": "[encoded data removed]",
      "text/plain": [
       "<Figure size 432x288 with 1 Axes>"
      ]
     },
     "metadata": {
      "needs_background": "light"
     },
     "output_type": "display_data"
    }
   ],
   "source": [
    "figure = plt.figure() # initializing the plot canvas (following commands will be hooked to it)\n",
    "plt.title('Scatter plot for the two strategies')\n",
    "plt.xlabel(\"number of games\")\n",
    "plt.ylabel(\"number of wins\")\n",
    "plot = plt.scatter(samples, [sum(x) for x in wins_changing], label=\"changing\")\n",
    "plot = plt.scatter(samples, [sum(x) for x in wins_keeping], label=\"keeping\")\n",
    "legend = plt.legend()"
   ]
  },
  {
   "cell_type": "code",
   "execution_count": 18,
   "metadata": {},
   "outputs": [
    {
     "data": {
      "image/png": "[encoded data removed]",
      "text/plain": [
       "<Figure size 432x288 with 1 Axes>"
      ]
     },
     "metadata": {
      "needs_background": "light"
     },
     "output_type": "display_data"
    }
   ],
   "source": [
    "# Finally, we can plot the average number of wins for each strategy as a function of the number of games to see the expected value (i.e. the limit of the distribution)\n",
    "av_wins_changing = []\n",
    "av_wins_keeping = []\n",
    "for tries in samples:\n",
    "    av_wins_changing.append(sum(play(Strategy.CHANGE, tries))/tries)\n",
    "    av_wins_keeping.append(sum(play(Strategy.KEEP, tries))/tries)\n",
    "\n",
    "figure = plt.figure()\n",
    "plt.title('Limit value for the two strategies')\n",
    "plt.xlabel(\"number of games\")\n",
    "plt.ylabel(\"normalized average number of wins\")\n",
    "plot = plt.scatter(samples, [x for x in av_wins_changing], label=\"changing\") \n",
    "plot = plt.scatter(samples, [x for x in av_wins_keeping], label=\"keeping\")\n",
    "legend = plt.legend()"
   ]
  }
 ],
 "metadata": {
  "kernelspec": {
   "display_name": "Python 3",
   "language": "python",
   "name": "python3"
  },
  "language_info": {
   "codemirror_mode": {
    "name": "ipython",
    "version": 3
   },
   "file_extension": ".py",
   "mimetype": "text/x-python",
   "name": "python",
   "nbconvert_exporter": "python",
   "pygments_lexer": "ipython3",
   "version": "3.7.3"
  }
 },
 "nbformat": 4,
 "nbformat_minor": 2
}
